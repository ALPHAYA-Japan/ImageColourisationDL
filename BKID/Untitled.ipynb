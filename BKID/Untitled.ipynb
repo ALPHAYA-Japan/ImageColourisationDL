{
 "cells": [
  {
   "cell_type": "code",
   "execution_count": 1,
   "metadata": {},
   "outputs": [
    {
     "name": "stderr",
     "output_type": "stream",
     "text": [
      "Using TensorFlow backend.\n"
     ]
    }
   ],
   "source": [
    "import numpy as np\n",
    "import tensorflow as tf\n",
    "import cv2\n",
    "from keras.preprocessing.image import ImageDataGenerator, array_to_img, img_to_array, load_img"
   ]
  },
  {
   "cell_type": "code",
   "execution_count": 2,
   "metadata": {
    "collapsed": true
   },
   "outputs": [],
   "source": [
    "image = img_to_array(load_img('man.jpg'))\n",
    "image = np.array(image)\n",
    "image = 1.0/255*image"
   ]
  },
  {
   "cell_type": "code",
   "execution_count": 3,
   "metadata": {},
   "outputs": [
    {
     "data": {
      "text/plain": [
       "array([[[  2.78320312e+00,  -1.35937500e+00,  -1.43750000e+00],\n",
       "        [  3.88793945e+00,  -1.93750000e+00,  -1.85937500e+00],\n",
       "        [  3.08837891e+00,  -1.39062500e+00,  -1.45312500e+00],\n",
       "        ..., \n",
       "        [  2.48413086e+00,  -1.31250000e+00,  -1.42187500e+00],\n",
       "        [  3.02734375e+00,  -1.64062500e+00,  -1.54687500e+00],\n",
       "        [  2.86865234e+00,  -9.37500000e-01,  -1.76562500e+00]],\n",
       "\n",
       "       [[  2.80761719e+00,  -1.20312500e+00,  -1.85937500e+00],\n",
       "        [  3.35083008e+00,  -1.53125000e+00,  -1.98437500e+00],\n",
       "        [  3.10668945e+00,  -1.23437500e+00,  -1.87500000e+00],\n",
       "        ..., \n",
       "        [  3.02734375e+00,  -1.64062500e+00,  -1.54687500e+00],\n",
       "        [  2.50854492e+00,  -1.15625000e+00,  -1.84375000e+00],\n",
       "        [  2.72827148e+00,  -1.60937500e+00,  -1.53125000e+00]],\n",
       "\n",
       "       [[  2.56347656e+00,  -9.06250000e-01,  -1.76562500e+00],\n",
       "        [  3.33251953e+00,  -1.68750000e+00,  -1.54687500e+00],\n",
       "        [  3.06396484e+00,  -1.54687500e+00,  -1.01562500e+00],\n",
       "        ..., \n",
       "        [  2.50854492e+00,  -1.15625000e+00,  -1.84375000e+00],\n",
       "        [  2.78320312e+00,  -1.35937500e+00,  -1.43750000e+00],\n",
       "        [  3.02734375e+00,  -1.64062500e+00,  -1.54687500e+00]],\n",
       "\n",
       "       ..., \n",
       "       [[  6.33544922e+00,  -2.40625000e+00,  -8.43750000e-01],\n",
       "        [  5.18798828e+00,  -1.50000000e+00,  -1.21875000e+00],\n",
       "        [  4.84008789e+00,  -1.07812500e+00,  -1.06250000e+00],\n",
       "        ..., \n",
       "        [  5.78674316e+01,   1.50156250e+01,   1.38906250e+01],\n",
       "        [  5.80566406e+01,   1.43125000e+01,   1.30000000e+01],\n",
       "        [  5.60668945e+01,   1.50000000e+01,   1.18437500e+01]],\n",
       "\n",
       "       [[  5.50537109e+00,  -2.15625000e+00,  -7.50000000e-01],\n",
       "        [  4.84008789e+00,  -1.07812500e+00,  -1.06250000e+00],\n",
       "        [  4.42504883e+00,  -9.53125000e-01,  -1.03125000e+00],\n",
       "        ..., \n",
       "        [  5.78674316e+01,   1.50156250e+01,   1.38906250e+01],\n",
       "        [  5.46203613e+01,   1.53750000e+01,   1.26562500e+01],\n",
       "        [  5.46630859e+01,   1.56406250e+01,   1.15625000e+01]],\n",
       "\n",
       "       [[  7.81250000e+00,  -1.51562500e+00,  -2.12500000e+00],\n",
       "        [  4.37011719e+00,  -1.32812500e+00,   1.56250000e-02],\n",
       "        [  4.06494141e+00,  -1.32812500e+00,   1.56250000e-02],\n",
       "        ..., \n",
       "        [  5.67260742e+01,   1.50781250e+01,   1.39687500e+01],\n",
       "        [  5.34667969e+01,   1.54687500e+01,   1.27343750e+01],\n",
       "        [  5.07995605e+01,   1.59375000e+01,   1.18125000e+01]]])"
      ]
     },
     "execution_count": 3,
     "metadata": {},
     "output_type": "execute_result"
    }
   ],
   "source": [
    "labImage = cv2.cvtColor(image, cv2.COLOR_RGB2LAB).astype(np.float64)\n",
    "labImage"
   ]
  },
  {
   "cell_type": "code",
   "execution_count": 7,
   "metadata": {},
   "outputs": [
    {
     "data": {
      "text/plain": [
       "array([[[ -1.3594e+00,  -1.4375e+00],\n",
       "        [ -1.9375e+00,  -1.8594e+00],\n",
       "        [ -1.3906e+00,  -1.4531e+00],\n",
       "        ..., \n",
       "        [ -1.3125e+00,  -1.4219e+00],\n",
       "        [ -1.6406e+00,  -1.5469e+00],\n",
       "        [ -9.3750e-01,  -1.7656e+00]],\n",
       "\n",
       "       [[ -1.2031e+00,  -1.8594e+00],\n",
       "        [ -1.5312e+00,  -1.9844e+00],\n",
       "        [ -1.2344e+00,  -1.8750e+00],\n",
       "        ..., \n",
       "        [ -1.6406e+00,  -1.5469e+00],\n",
       "        [ -1.1562e+00,  -1.8438e+00],\n",
       "        [ -1.6094e+00,  -1.5312e+00]],\n",
       "\n",
       "       [[ -9.0625e-01,  -1.7656e+00],\n",
       "        [ -1.6875e+00,  -1.5469e+00],\n",
       "        [ -1.5469e+00,  -1.0156e+00],\n",
       "        ..., \n",
       "        [ -1.1562e+00,  -1.8438e+00],\n",
       "        [ -1.3594e+00,  -1.4375e+00],\n",
       "        [ -1.6406e+00,  -1.5469e+00]],\n",
       "\n",
       "       ..., \n",
       "       [[ -2.4062e+00,  -8.4375e-01],\n",
       "        [ -1.5000e+00,  -1.2188e+00],\n",
       "        [ -1.0781e+00,  -1.0625e+00],\n",
       "        ..., \n",
       "        [  1.5016e+01,   1.3891e+01],\n",
       "        [  1.4312e+01,   1.3000e+01],\n",
       "        [  1.5000e+01,   1.1844e+01]],\n",
       "\n",
       "       [[ -2.1562e+00,  -7.5000e-01],\n",
       "        [ -1.0781e+00,  -1.0625e+00],\n",
       "        [ -9.5312e-01,  -1.0312e+00],\n",
       "        ..., \n",
       "        [  1.5016e+01,   1.3891e+01],\n",
       "        [  1.5375e+01,   1.2656e+01],\n",
       "        [  1.5641e+01,   1.1562e+01]],\n",
       "\n",
       "       [[ -1.5156e+00,  -2.1250e+00],\n",
       "        [ -1.3281e+00,   1.5625e-02],\n",
       "        [ -1.3281e+00,   1.5625e-02],\n",
       "        ..., \n",
       "        [  1.5078e+01,   1.3969e+01],\n",
       "        [  1.5469e+01,   1.2734e+01],\n",
       "        [  1.5938e+01,   1.1812e+01]]])"
      ]
     },
     "execution_count": 7,
     "metadata": {},
     "output_type": "execute_result"
    }
   ],
   "source": [
    "np.set_printoptions(precision=4)\n",
    "X = labImage[:,:,0]\n",
    "Y = labImage[:,:,1]\n",
    "Z = labImage[:,:,2]\n",
    "Y1 = cv2.merge((Y,Z))\n",
    "Y1"
   ]
  },
  {
   "cell_type": "code",
   "execution_count": null,
   "metadata": {
    "collapsed": true
   },
   "outputs": [],
   "source": []
  },
  {
   "cell_type": "code",
   "execution_count": null,
   "metadata": {
    "collapsed": true
   },
   "outputs": [],
   "source": []
  },
  {
   "cell_type": "code",
   "execution_count": null,
   "metadata": {
    "collapsed": true
   },
   "outputs": [],
   "source": []
  },
  {
   "cell_type": "code",
   "execution_count": null,
   "metadata": {
    "collapsed": true
   },
   "outputs": [],
   "source": []
  },
  {
   "cell_type": "code",
   "execution_count": null,
   "metadata": {
    "collapsed": true
   },
   "outputs": [],
   "source": []
  },
  {
   "cell_type": "code",
   "execution_count": null,
   "metadata": {
    "collapsed": true
   },
   "outputs": [],
   "source": []
  },
  {
   "cell_type": "code",
   "execution_count": null,
   "metadata": {
    "collapsed": true
   },
   "outputs": [],
   "source": []
  },
  {
   "cell_type": "code",
   "execution_count": null,
   "metadata": {
    "collapsed": true
   },
   "outputs": [],
   "source": []
  },
  {
   "cell_type": "code",
   "execution_count": null,
   "metadata": {
    "collapsed": true
   },
   "outputs": [],
   "source": []
  },
  {
   "cell_type": "code",
   "execution_count": null,
   "metadata": {
    "collapsed": true
   },
   "outputs": [],
   "source": []
  },
  {
   "cell_type": "code",
   "execution_count": null,
   "metadata": {
    "collapsed": true
   },
   "outputs": [],
   "source": []
  },
  {
   "cell_type": "code",
   "execution_count": null,
   "metadata": {
    "collapsed": true
   },
   "outputs": [],
   "source": []
  },
  {
   "cell_type": "code",
   "execution_count": null,
   "metadata": {
    "collapsed": true
   },
   "outputs": [],
   "source": []
  },
  {
   "cell_type": "code",
   "execution_count": null,
   "metadata": {
    "collapsed": true
   },
   "outputs": [],
   "source": []
  },
  {
   "cell_type": "code",
   "execution_count": null,
   "metadata": {
    "collapsed": true
   },
   "outputs": [],
   "source": []
  },
  {
   "cell_type": "code",
   "execution_count": null,
   "metadata": {
    "collapsed": true
   },
   "outputs": [],
   "source": []
  },
  {
   "cell_type": "code",
   "execution_count": null,
   "metadata": {
    "collapsed": true
   },
   "outputs": [],
   "source": []
  },
  {
   "cell_type": "code",
   "execution_count": null,
   "metadata": {
    "collapsed": true
   },
   "outputs": [],
   "source": []
  },
  {
   "cell_type": "code",
   "execution_count": null,
   "metadata": {
    "collapsed": true
   },
   "outputs": [],
   "source": []
  },
  {
   "cell_type": "code",
   "execution_count": null,
   "metadata": {
    "collapsed": true
   },
   "outputs": [],
   "source": []
  },
  {
   "cell_type": "code",
   "execution_count": null,
   "metadata": {
    "collapsed": true
   },
   "outputs": [],
   "source": []
  },
  {
   "cell_type": "code",
   "execution_count": null,
   "metadata": {
    "collapsed": true
   },
   "outputs": [],
   "source": []
  },
  {
   "cell_type": "code",
   "execution_count": null,
   "metadata": {
    "collapsed": true
   },
   "outputs": [],
   "source": []
  },
  {
   "cell_type": "code",
   "execution_count": null,
   "metadata": {
    "collapsed": true
   },
   "outputs": [],
   "source": []
  },
  {
   "cell_type": "code",
   "execution_count": null,
   "metadata": {
    "collapsed": true
   },
   "outputs": [],
   "source": []
  },
  {
   "cell_type": "code",
   "execution_count": null,
   "metadata": {
    "collapsed": true
   },
   "outputs": [],
   "source": []
  },
  {
   "cell_type": "code",
   "execution_count": null,
   "metadata": {
    "collapsed": true
   },
   "outputs": [],
   "source": []
  },
  {
   "cell_type": "code",
   "execution_count": null,
   "metadata": {
    "collapsed": true
   },
   "outputs": [],
   "source": []
  },
  {
   "cell_type": "code",
   "execution_count": null,
   "metadata": {
    "collapsed": true
   },
   "outputs": [],
   "source": []
  },
  {
   "cell_type": "code",
   "execution_count": null,
   "metadata": {
    "collapsed": true
   },
   "outputs": [],
   "source": []
  },
  {
   "cell_type": "code",
   "execution_count": null,
   "metadata": {
    "collapsed": true
   },
   "outputs": [],
   "source": []
  },
  {
   "cell_type": "code",
   "execution_count": null,
   "metadata": {
    "collapsed": true
   },
   "outputs": [],
   "source": []
  },
  {
   "cell_type": "code",
   "execution_count": null,
   "metadata": {
    "collapsed": true
   },
   "outputs": [],
   "source": []
  },
  {
   "cell_type": "code",
   "execution_count": null,
   "metadata": {
    "collapsed": true
   },
   "outputs": [],
   "source": []
  },
  {
   "cell_type": "code",
   "execution_count": null,
   "metadata": {
    "collapsed": true
   },
   "outputs": [],
   "source": []
  },
  {
   "cell_type": "code",
   "execution_count": null,
   "metadata": {
    "collapsed": true
   },
   "outputs": [],
   "source": []
  },
  {
   "cell_type": "code",
   "execution_count": null,
   "metadata": {
    "collapsed": true
   },
   "outputs": [],
   "source": []
  },
  {
   "cell_type": "code",
   "execution_count": null,
   "metadata": {
    "collapsed": true
   },
   "outputs": [],
   "source": []
  },
  {
   "cell_type": "code",
   "execution_count": null,
   "metadata": {
    "collapsed": true
   },
   "outputs": [],
   "source": []
  },
  {
   "cell_type": "code",
   "execution_count": null,
   "metadata": {
    "collapsed": true
   },
   "outputs": [],
   "source": []
  },
  {
   "cell_type": "code",
   "execution_count": null,
   "metadata": {
    "collapsed": true
   },
   "outputs": [],
   "source": []
  },
  {
   "cell_type": "code",
   "execution_count": null,
   "metadata": {
    "collapsed": true
   },
   "outputs": [],
   "source": []
  },
  {
   "cell_type": "code",
   "execution_count": null,
   "metadata": {
    "collapsed": true
   },
   "outputs": [],
   "source": []
  },
  {
   "cell_type": "code",
   "execution_count": null,
   "metadata": {
    "collapsed": true
   },
   "outputs": [],
   "source": []
  },
  {
   "cell_type": "code",
   "execution_count": null,
   "metadata": {
    "collapsed": true
   },
   "outputs": [],
   "source": []
  },
  {
   "cell_type": "code",
   "execution_count": null,
   "metadata": {
    "collapsed": true
   },
   "outputs": [],
   "source": []
  },
  {
   "cell_type": "code",
   "execution_count": null,
   "metadata": {
    "collapsed": true
   },
   "outputs": [],
   "source": []
  },
  {
   "cell_type": "code",
   "execution_count": null,
   "metadata": {
    "collapsed": true
   },
   "outputs": [],
   "source": []
  },
  {
   "cell_type": "code",
   "execution_count": null,
   "metadata": {
    "collapsed": true
   },
   "outputs": [],
   "source": []
  },
  {
   "cell_type": "code",
   "execution_count": null,
   "metadata": {
    "collapsed": true
   },
   "outputs": [],
   "source": []
  },
  {
   "cell_type": "code",
   "execution_count": null,
   "metadata": {
    "collapsed": true
   },
   "outputs": [],
   "source": []
  },
  {
   "cell_type": "code",
   "execution_count": null,
   "metadata": {
    "collapsed": true
   },
   "outputs": [],
   "source": []
  },
  {
   "cell_type": "code",
   "execution_count": null,
   "metadata": {
    "collapsed": true
   },
   "outputs": [],
   "source": []
  },
  {
   "cell_type": "code",
   "execution_count": null,
   "metadata": {
    "collapsed": true
   },
   "outputs": [],
   "source": []
  }
 ],
 "metadata": {
  "kernelspec": {
   "display_name": "Python 3",
   "language": "python",
   "name": "python3"
  },
  "language_info": {
   "codemirror_mode": {
    "name": "ipython",
    "version": 3
   },
   "file_extension": ".py",
   "mimetype": "text/x-python",
   "name": "python",
   "nbconvert_exporter": "python",
   "pygments_lexer": "ipython3",
   "version": "3.6.1"
  }
 },
 "nbformat": 4,
 "nbformat_minor": 2
}
